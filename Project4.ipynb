{
  "nbformat": 4,
  "nbformat_minor": 0,
  "metadata": {
    "colab": {
      "name": "Project4.ipynb",
      "provenance": [],
      "include_colab_link": true
    },
    "kernelspec": {
      "name": "python3",
      "display_name": "Python 3"
    }
  },
  "cells": [
    {
      "cell_type": "markdown",
      "metadata": {
        "id": "view-in-github",
        "colab_type": "text"
      },
      "source": [
        "<a href=\"https://colab.research.google.com/github/dkaiser7/Discrete_Math/blob/master/Project4.ipynb\" target=\"_parent\"><img src=\"https://colab.research.google.com/assets/colab-badge.svg\" alt=\"Open In Colab\"/></a>"
      ]
    },
    {
      "cell_type": "markdown",
      "metadata": {
        "id": "YCJaepmmfKrS"
      },
      "source": [
        "# Project Part #4 : CPSMA 3133 [Dr. Jacob's](https://github.com/nurfnick) Discrete Mathematics \n",
        "\n",
        "## Counting\n",
        "\n",
        "### Darcie Kaiser 266940\n",
        "\n",
        "![btv.jpg](data:image/jpeg;base64,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)\n"
      ]
    },
    {
      "cell_type": "markdown",
      "metadata": {
        "id": "Xs_Pvtua1Nnt"
      },
      "source": [
        "## Counting"
      ]
    },
    {
      "cell_type": "markdown",
      "metadata": {
        "id": "2z6U1aB_fQDM"
      },
      "source": [
        "For this Counting project, I am going to go off of what I used in Project 3, but I am going to add more sports so we can have 10 events. I am going to use the sports: volleyball, basketball, soccer, baseball, swimming, softball, football, golf, gymnastics, and tennis. "
      ]
    },
    {
      "cell_type": "code",
      "source": [
        "Sports = ['volleyball', 'basketball', 'soccer', 'baseball', 'swimming', 'softball', 'football', 'golf', 'gymnastics', 'tennis']"
      ],
      "metadata": {
        "id": "_19XC-KMLtXN"
      },
      "execution_count": 1,
      "outputs": []
    },
    {
      "cell_type": "markdown",
      "metadata": {
        "id": "Iggon6VK1Vxo"
      },
      "source": [
        "Out of these 10 events, we want 20 possible outcomes and to calculate that we are going to do: \n",
        "\n",
        "$$\n",
        "10^{20}\n",
        "$$"
      ]
    },
    {
      "cell_type": "code",
      "source": [
        "10**20"
      ],
      "metadata": {
        "colab": {
          "base_uri": "https://localhost:8080/"
        },
        "id": "gAgM1tEyNli4",
        "outputId": "d717f1ae-81f5-4cba-9a4b-e913c13481b3"
      },
      "execution_count": 2,
      "outputs": [
        {
          "output_type": "execute_result",
          "data": {
            "text/plain": [
              "100000000000000000000"
            ]
          },
          "metadata": {},
          "execution_count": 2
        }
      ]
    },
    {
      "cell_type": "markdown",
      "source": [
        "That is a very large number and those are our possible combinations."
      ],
      "metadata": {
        "id": "iVQGt-65NunU"
      }
    },
    {
      "cell_type": "markdown",
      "source": [
        "If order did not matter in out possible combinations, then the formula we would use is:\n",
        "\n",
        "$$\n",
        "\\binom{n+k-1}{k-1} = \\binom{n+k-1}{n}\n",
        "$$"
      ],
      "metadata": {
        "id": "hs9K2tinN_7B"
      }
    },
    {
      "cell_type": "markdown",
      "source": [
        "Because we have 10 sports, and 20 possible outcomes, we will plug these numbers in to the formula above."
      ],
      "metadata": {
        "id": "GXYP0jbZOx4h"
      }
    },
    {
      "cell_type": "code",
      "source": [
        "import math\n",
        "\n",
        "math.factorial(29)/(math.factorial(20)*math.factorial(9))"
      ],
      "metadata": {
        "colab": {
          "base_uri": "https://localhost:8080/"
        },
        "id": "DzPwWaVWOkfC",
        "outputId": "6e71efde-5f12-4c10-e81e-b31675fdddcc"
      },
      "execution_count": 3,
      "outputs": [
        {
          "output_type": "execute_result",
          "data": {
            "text/plain": [
              "10015005.0"
            ]
          },
          "metadata": {},
          "execution_count": 3
        }
      ]
    },
    {
      "cell_type": "code",
      "source": [
        "from itertools import combinations_with_replacement\n",
        "\n",
        "print(list(combinations_with_replacement(Sports,10)))"
      ],
      "metadata": {
        "colab": {
          "base_uri": "https://localhost:8080/"
        },
        "id": "MCYYSc2yPVC7",
        "outputId": "df5300e4-fe40-4ae1-cb3e-a4391418f151"
      },
      "execution_count": 10,
      "outputs": [
        {
          "output_type": "stream",
          "name": "stderr",
          "text": [
            "IOPub data rate exceeded.\n",
            "The notebook server will temporarily stop sending output\n",
            "to the client in order to avoid crashing it.\n",
            "To change this limit, set the config variable\n",
            "`--NotebookApp.iopub_data_rate_limit`.\n",
            "\n",
            "Current values:\n",
            "NotebookApp.iopub_data_rate_limit=1000000.0 (bytes/sec)\n",
            "NotebookApp.rate_limit_window=3.0 (secs)\n",
            "\n"
          ]
        }
      ]
    },
    {
      "cell_type": "markdown",
      "source": [
        "I don't know how to reall change this and fix it."
      ],
      "metadata": {
        "id": "uTucl6s4SDPK"
      }
    },
    {
      "cell_type": "code",
      "source": [
        "len(list(combinations_with_replacement(Sports,10)))"
      ],
      "metadata": {
        "colab": {
          "base_uri": "https://localhost:8080/"
        },
        "id": "PuHfgK3jSNjm",
        "outputId": "8abc813f-adfe-4eb5-cea8-05c2265bc92b"
      },
      "execution_count": 9,
      "outputs": [
        {
          "output_type": "execute_result",
          "data": {
            "text/plain": [
              "92378"
            ]
          },
          "metadata": {},
          "execution_count": 9
        }
      ]
    },
    {
      "cell_type": "markdown",
      "source": [
        "This is a significant difference."
      ],
      "metadata": {
        "id": "a48msv-kUuIy"
      }
    },
    {
      "cell_type": "markdown",
      "metadata": {
        "id": "_7RoPTU_hXG1"
      },
      "source": [
        "## 2 Without Replacement "
      ]
    },
    {
      "cell_type": "markdown",
      "source": [
        "We are going to calculate $10!$"
      ],
      "metadata": {
        "id": "J5n6lZLsTUEp"
      }
    },
    {
      "cell_type": "code",
      "source": [
        "print(math.factorial(10))"
      ],
      "metadata": {
        "colab": {
          "base_uri": "https://localhost:8080/"
        },
        "id": "GhXOW9x9TZ1o",
        "outputId": "5001dffc-86bd-48ec-b1c3-0a15a914c57b"
      },
      "execution_count": 9,
      "outputs": [
        {
          "output_type": "stream",
          "name": "stdout",
          "text": [
            "3628800\n"
          ]
        }
      ]
    },
    {
      "cell_type": "code",
      "source": [
        "from itertools import permutations\n",
        "print(list(permutations(Sports,10)))"
      ],
      "metadata": {
        "colab": {
          "base_uri": "https://localhost:8080/"
        },
        "id": "o-s6hdCvTfQ5",
        "outputId": "61a9afae-3aa0-4314-c211-027aa0ca6b89"
      },
      "execution_count": 5,
      "outputs": [
        {
          "output_type": "stream",
          "name": "stderr",
          "text": [
            "IOPub data rate exceeded.\n",
            "The notebook server will temporarily stop sending output\n",
            "to the client in order to avoid crashing it.\n",
            "To change this limit, set the config variable\n",
            "`--NotebookApp.iopub_data_rate_limit`.\n",
            "\n",
            "Current values:\n",
            "NotebookApp.iopub_data_rate_limit=1000000.0 (bytes/sec)\n",
            "NotebookApp.rate_limit_window=3.0 (secs)\n",
            "\n"
          ]
        }
      ]
    },
    {
      "cell_type": "code",
      "source": [
        "math.factorial(10)/(math.factorial(0)*math.factorial(10))"
      ],
      "metadata": {
        "colab": {
          "base_uri": "https://localhost:8080/"
        },
        "id": "CDzgwaC-UPX9",
        "outputId": "09cf6133-8d5c-40b7-983e-e7c7af86f3d7"
      },
      "execution_count": 6,
      "outputs": [
        {
          "output_type": "execute_result",
          "data": {
            "text/plain": [
              "1.0"
            ]
          },
          "metadata": {},
          "execution_count": 6
        }
      ]
    },
    {
      "cell_type": "code",
      "source": [
        "from itertools import combinations\n",
        "print(list(combinations(Sports,10)))"
      ],
      "metadata": {
        "colab": {
          "base_uri": "https://localhost:8080/"
        },
        "id": "RTqrk1pGUa-j",
        "outputId": "aff8626e-f887-4b83-852a-7f919a9f1707"
      },
      "execution_count": 7,
      "outputs": [
        {
          "output_type": "stream",
          "name": "stdout",
          "text": [
            "[('volleyball', 'basketball', 'soccer', 'baseball', 'swimming', 'softball', 'football', 'golf', 'gymnastics', 'tennis')]\n"
          ]
        }
      ]
    },
    {
      "cell_type": "markdown",
      "source": [
        "I found this all so interesting and I really liked seeing how many different numbers came out of the coding and the outcomes. I think there were so many different outcomes because of the way we were coding and how many different outcomes we wanted to see. I think its easier to do this on the computer than on hand just because the numbers are so large."
      ],
      "metadata": {
        "id": "JHenfFB5U4JD"
      }
    },
    {
      "cell_type": "code",
      "source": [
        ""
      ],
      "metadata": {
        "id": "d4NQfWc5VOK8"
      },
      "execution_count": null,
      "outputs": []
    }
  ]
}