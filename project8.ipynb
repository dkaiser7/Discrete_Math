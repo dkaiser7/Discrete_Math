{
  "nbformat": 4,
  "nbformat_minor": 0,
  "metadata": {
    "colab": {
      "name": "project8.ipynb",
      "provenance": [],
      "include_colab_link": true
    },
    "kernelspec": {
      "name": "python3",
      "display_name": "Python 3"
    }
  },
  "cells": [
    {
      "cell_type": "markdown",
      "metadata": {
        "id": "view-in-github",
        "colab_type": "text"
      },
      "source": [
        "<a href=\"https://colab.research.google.com/github/dkaiser7/Discrete_Math/blob/master/project8.ipynb\" target=\"_parent\"><img src=\"https://colab.research.google.com/assets/colab-badge.svg\" alt=\"Open In Colab\"/></a>"
      ]
    },
    {
      "cell_type": "markdown",
      "metadata": {
        "id": "YCJaepmmfKrS"
      },
      "source": [
        "# Project Part #8 : CPSMA 3133 [Dr. Jacob's](https://github.com/nurfnick) Discrete Mathematics \n",
        "\n",
        "## Proofs \n",
        "\n",
        "### Darcie Kaiser 266940\n",
        "\n",
        "\n"
      ]
    },
    {
      "cell_type": "markdown",
      "metadata": {
        "id": "Xs_Pvtua1Nnt"
      },
      "source": [
        "## 1a: Equation "
      ]
    },
    {
      "cell_type": "markdown",
      "metadata": {
        "id": "2z6U1aB_fQDM"
      },
      "source": [
        "For this part I am going to create the equation that I am going to use to prove in the next part. The equation I am going to use that is in the $y = mx + b$ form is:\n",
        "\n",
        "$$y = 4x + 1$$ \n",
        "the intersections on a graph for the y-axis is $(0,1)$.\n",
        "\n",
        "Before I am going to use this equation in a proof, I am going to graph it. "
      ]
    },
    {
      "cell_type": "code",
      "source": [
        "import matplotlib.pyplot as plt\n",
        "import numpy as np\n",
        "\n",
        "x = np.arange(-5,2,.1) #first value, last value, stepsize = .1\n",
        "\n",
        "plt.plot(x,4*x+1)\n",
        "plt.scatter(0,1,c='red',s = 40)#plotting the points too x,y,color,size\n",
        "plt.show()"
      ],
      "metadata": {
        "colab": {
          "base_uri": "https://localhost:8080/",
          "height": 265
        },
        "id": "Bs2E4-pFAGug",
        "outputId": "935ee220-c7c3-4e21-a860-62e14ea59967"
      },
      "execution_count": 3,
      "outputs": [
        {
          "output_type": "display_data",
          "data": {
            "image/png": "[encoded data removed]",
            "text/plain": [
              "<Figure size 432x288 with 1 Axes>"
            ]
          },
          "metadata": {
            "needs_background": "light"
          }
        }
      ]
    },
    {
      "cell_type": "markdown",
      "metadata": {
        "id": "_7RoPTU_hXG1"
      },
      "source": [
        "## 1b: Proof "
      ]
    },
    {
      "cell_type": "markdown",
      "source": [
        "The next step I am going to do with the equation is to do a proof. I am going to prove the statement: \n",
        "\n",
        "\n",
        "\n",
        "> $(0,1)$ is the y-intercept for the function $y = 4x +1$\n",
        "\n"
      ],
      "metadata": {
        "id": "Kp0NWFwFBsiM"
      }
    },
    {
      "cell_type": "markdown",
      "source": [
        "In order for a point to be the y-intercept of a function $y = mx + b$, it has to be in the form of $(0,b)$. The y-intercept is the y-axis line that is vertical and cross with the horizontal x-axis line at $(0,0)$. The point listed above matches the requirement because in the equation $y = 4x + 1$, $b$ is 1 making it the y-intercept. We can prove this below if we ask is $1 = 4(0) +1$?"
      ],
      "metadata": {
        "id": "yigJcIIcCfus"
      }
    },
    {
      "cell_type": "code",
      "metadata": {
        "id": "5U5T3Fld5X0S",
        "colab": {
          "base_uri": "https://localhost:8080/"
        },
        "outputId": "e899bee2-9f4b-4f7c-c869-9424ae8984e8"
      },
      "source": [
        "1 == 4*0 + 1"
      ],
      "execution_count": 4,
      "outputs": [
        {
          "output_type": "execute_result",
          "data": {
            "text/plain": [
              "True"
            ]
          },
          "metadata": {},
          "execution_count": 4
        }
      ]
    },
    {
      "cell_type": "markdown",
      "source": [
        "This proves that $(0,1)$ is the y-intercept for the function $y = 4x + 1$. This also completes the proof!"
      ],
      "metadata": {
        "id": "hF727XOvTNVr"
      }
    },
    {
      "cell_type": "markdown",
      "source": [
        "## 2"
      ],
      "metadata": {
        "id": "o3wEU5ttT2pN"
      }
    },
    {
      "cell_type": "markdown",
      "source": [
        "I really enjoyed typing this easy proof into here. It was easy to follow and explain the y-intercept. The graph that was coded was different looking to me, but I guess that is how python does it."
      ],
      "metadata": {
        "id": "ydV9kyKKT2nd"
      }
    },
    {
      "cell_type": "code",
      "source": [
        ""
      ],
      "metadata": {
        "id": "AzOHJ8ZoUfpb"
      },
      "execution_count": null,
      "outputs": []
    }
  ]
}