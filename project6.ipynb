{
  "nbformat": 4,
  "nbformat_minor": 0,
  "metadata": {
    "colab": {
      "name": "project6.ipynb",
      "provenance": [],
      "include_colab_link": true
    },
    "kernelspec": {
      "name": "python3",
      "display_name": "Python 3"
    }
  },
  "cells": [
    {
      "cell_type": "markdown",
      "metadata": {
        "id": "view-in-github",
        "colab_type": "text"
      },
      "source": [
        "<a href=\"https://colab.research.google.com/github/dkaiser7/Discrete_Math/blob/master/project6.ipynb\" target=\"_parent\"><img src=\"https://colab.research.google.com/assets/colab-badge.svg\" alt=\"Open In Colab\"/></a>"
      ]
    },
    {
      "cell_type": "markdown",
      "metadata": {
        "id": "YCJaepmmfKrS"
      },
      "source": [
        "# Project Part # : CPSMA 3133 [Dr. Jacob's](https://github.com/nurfnick) Discrete Mathematics \n",
        "\n",
        "## Project 6: Numbers\n",
        "\n",
        "### Darcie Kaiser 266940\n",
        "\n",
        "\n"
      ]
    },
    {
      "cell_type": "markdown",
      "metadata": {
        "id": "Xs_Pvtua1Nnt"
      },
      "source": [
        "## 1 Numbers and Arithmetic\n"
      ]
    },
    {
      "cell_type": "markdown",
      "metadata": {
        "id": "2z6U1aB_fQDM"
      },
      "source": [
        "For part (a), I am going to covert $24036_7$ into base $10$."
      ]
    },
    {
      "cell_type": "code",
      "source": [
        "n = 24036"
      ],
      "metadata": {
        "id": "QllVAgwDjyPu"
      },
      "execution_count": 36,
      "outputs": []
    },
    {
      "cell_type": "code",
      "source": [
        "t = 0\n",
        "x = 0\n",
        "while n > 0:\n",
        "  digit = n%10 \n",
        "  n = n//10\n",
        "  x = x + (7**t)*digit \n",
        "  t = t + 1\n",
        "print(\"Coverted Decimal=\"+(str(x)))"
      ],
      "metadata": {
        "colab": {
          "base_uri": "https://localhost:8080/"
        },
        "id": "cFAVB99wj2uH",
        "outputId": "f54d4dfc-a9b9-44c2-d9ad-2323fb9e96a5"
      },
      "execution_count": 37,
      "outputs": [
        {
          "output_type": "stream",
          "name": "stdout",
          "text": [
            "Coverted Decimal=6201\n"
          ]
        }
      ]
    },
    {
      "cell_type": "markdown",
      "metadata": {
        "id": "Iggon6VK1Vxo"
      },
      "source": [
        "Now for part (b), I am going to convert the hexidecimal number $72e3$ into base $10$."
      ]
    },
    {
      "cell_type": "code",
      "source": [
        "n = \"72e3\""
      ],
      "metadata": {
        "id": "SOYDF-ETld_L"
      },
      "execution_count": 38,
      "outputs": []
    },
    {
      "cell_type": "code",
      "source": [
        "def Digit_identifier(x):\n",
        "  if d.isdigit():\n",
        "    return int(x)\n",
        "  if d.isalpha():\n",
        "    if x=='v':\n",
        "      return 10\n",
        "    elif x=='w':\n",
        "      return 11\n",
        "    elif x=='y':\n",
        "      return 12\n",
        "    elif x=='z':\n",
        "      return 13\n",
        "    elif x=='a':\n",
        "      return 14\n",
        "    else : \n",
        "      return 15\n"
      ],
      "metadata": {
        "id": "M6UhFcF1lmfF"
      },
      "execution_count": 39,
      "outputs": []
    },
    {
      "cell_type": "code",
      "source": [
        "Deci = 0 \n",
        "for t in range(len(n)):\n",
        "  digit = Digit_identifier(n[len(n)-t-1])\n",
        "  Deci = Deci + digit*16**t\n",
        "\n",
        "print(\"Corresponding decimal= \"+ str(Deci))"
      ],
      "metadata": {
        "id": "kJWCoQ0tmrNo"
      },
      "execution_count": null,
      "outputs": []
    },
    {
      "cell_type": "markdown",
      "source": [
        "For part (c), I am going to convert $3735928559$ into a hexidecimal."
      ],
      "metadata": {
        "id": "-m49vRLaolfg"
      }
    },
    {
      "cell_type": "code",
      "source": [
        "n = 3735928559"
      ],
      "metadata": {
        "id": "05MqOXxhoxdS"
      },
      "execution_count": 17,
      "outputs": []
    },
    {
      "cell_type": "code",
      "source": [
        "hex=\"\"\n",
        "while n > 0:\n",
        "  x = n//16\n",
        "  if n < 10:\n",
        "    hex= str(x)+hex\n",
        "  else:\n",
        "    if x==10:\n",
        "      hex='v'+hex\n",
        "    if x==11:\n",
        "      hex='w'+hex\n",
        "    if x==12:\n",
        "      hex='y'+hex\n",
        "    if x=='13':\n",
        "      hex='y'+hex\n",
        "    if x==14:\n",
        "      hex='z'+hex\n",
        "    if x==15:\n",
        "      hex='a'+hex\n",
        "print(\"hexidecimal form of 3735928559= \"+hex)\n",
        "    "
      ],
      "metadata": {
        "id": "CwIiMHO6o34E"
      },
      "execution_count": null,
      "outputs": []
    },
    {
      "cell_type": "markdown",
      "source": [
        "For part (d), I am going to find the base $10$ subtraction of $25 - 37$ using the two's complement."
      ],
      "metadata": {
        "id": "ob_FBDJcqaIw"
      }
    },
    {
      "cell_type": "code",
      "source": [
        "n1 = 25\n",
        "n2 = 37"
      ],
      "metadata": {
        "id": "AR2DjI4Pq3I8"
      },
      "execution_count": null,
      "outputs": []
    },
    {
      "cell_type": "code",
      "source": [
        "def Decimal_to_Binary(n):\n",
        "  b=''\n",
        "  while n > 0:\n",
        "    b=str(n%2) + b\n",
        "    n = n//2\n",
        "  return b"
      ],
      "metadata": {
        "id": "GXFDW4qGrEVc"
      },
      "execution_count": 21,
      "outputs": []
    },
    {
      "cell_type": "code",
      "source": [
        "b1 = Decimal_to_Binary(n1)\n",
        "b2 = Decimal_to_Binary(n2)\n",
        "if (n1 >= 0):\n",
        "  b1 = '0'+b1\n",
        "else:\n",
        "  b1 = '1'+b1\n",
        "if(n2 >= 0):\n",
        "  b2 = '0'+b2\n",
        "else:\n",
        "  b2 = '0'+b2"
      ],
      "metadata": {
        "id": "HCC5fpEIrWGK"
      },
      "execution_count": null,
      "outputs": []
    },
    {
      "cell_type": "code",
      "source": [
        "b2_1_compliment=''\n",
        "for t in range(len(b2)):\n",
        "  if b2[t]=='1':\n",
        "    b2_1_compliment = b2_1_compliment+'0'\n",
        "  else :\n",
        "    b2_1_compliment = b2_1_compliment+ '1'\n",
        "\n",
        "print(\"1's compliment of 37= \"+b2_1_compliment)"
      ],
      "metadata": {
        "id": "SJ8xmBDXr-_L"
      },
      "execution_count": null,
      "outputs": []
    },
    {
      "cell_type": "code",
      "source": [
        "\n",
        "def add(b1,b2):\n",
        "  t = 0\n",
        "  mLen = max(len(b1), len(b2))\n",
        "  b1 = b1.zfill(mLen)\n",
        "  b2 = b2.zfill(mLen)\n",
        "  carry = 0\n",
        "  sum=''\n",
        "  while t<len(b1):\n",
        "    if int(b1[mLen-t-1])+int(b2[mLen-t-1])+carry == 0:\n",
        "      sum = '0'+sum\n",
        "      carry = 0\n",
        "    elif int(b1[mLen-t-1])+int(b2[mLen-t-1])+carry == 1:\n",
        "      sum = '1'+sum\n",
        "      carry = 0\n",
        "    elif int(b1[mLen-t-1])+int(b2[mLen-t-1])+carry == 2:\n",
        "      sum = '0'+sum\n",
        "      carry = 1\n",
        "    else:\n",
        "      sum = '1'+sum\n",
        "      carry = 1\n",
        "    t = t + 1\n",
        "  if carry == 1:\n",
        "    sum= '1'+sum\n",
        "  return sum"
      ],
      "metadata": {
        "id": "5ExKMF15sp4G"
      },
      "execution_count": 29,
      "outputs": []
    },
    {
      "cell_type": "code",
      "source": [
        "b2_2_compliment = add(b2_1_compliment, '1')\n",
        "print(\"2's compliment of b2= \"+b2_2_compliment)"
      ],
      "metadata": {
        "colab": {
          "base_uri": "https://localhost:8080/"
        },
        "id": "_LZV1GCyuVIs",
        "outputId": "0c9f8ba0-d0a8-4e16-a39f-2625ad4a8669"
      },
      "execution_count": 30,
      "outputs": [
        {
          "output_type": "stream",
          "name": "stdout",
          "text": [
            "2's compliment of b2= 1\n"
          ]
        }
      ]
    },
    {
      "cell_type": "code",
      "source": [
        "Required_Result = add(b1, b2_2_compliment)\n",
        "\n",
        "print(\"Binary value of 25-37= \" + Required_Result)\n",
        "\n",
        "#r is the result\n",
        "r=0\n",
        "i=0\n",
        "\n",
        "for i in range(len(Required_Result)-1):\n",
        "  digit=int(Required_Result[len(Required_Result)-i-1])\n",
        "  r = r +(2**i)*digit\n",
        "r= r+(-1)**int(Required_Result[0])*(int(Required_Result[1]))*(2**(len(Required_Result)-1))\n",
        "\n",
        "print(\"Therefore the value of 25-37 equals \" + str(r))"
      ],
      "metadata": {
        "id": "5Ln1JBAlvQGp"
      },
      "execution_count": null,
      "outputs": []
    },
    {
      "cell_type": "code",
      "source": [
        "if (25-37) == r:\n",
        "  print(\"successful\")\n",
        "else:\n",
        "  print(\"unsuccessful\")"
      ],
      "metadata": {
        "id": "YtSCDKg0wCsI"
      },
      "execution_count": null,
      "outputs": []
    },
    {
      "cell_type": "markdown",
      "metadata": {
        "id": "_7RoPTU_hXG1"
      },
      "source": [
        "## 2 Questions"
      ]
    },
    {
      "cell_type": "markdown",
      "source": [
        "I found it really difficult to figure out which coding route I wanted to take. I found these results very interesting. I think this is very important for computers because they are easier to represent in a different kind of number system other than the number system we use today."
      ],
      "metadata": {
        "id": "Vw2ptl9cw-IY"
      }
    },
    {
      "cell_type": "code",
      "source": [
        ""
      ],
      "metadata": {
        "id": "6AZQ1FS_xaBk"
      },
      "execution_count": null,
      "outputs": []
    }
  ]
}